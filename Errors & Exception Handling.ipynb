{
 "cells": [
  {
   "cell_type": "markdown",
   "metadata": {},
   "source": [
    "# Errors & Exception Handling"
   ]
  },
  {
   "cell_type": "code",
   "execution_count": 1,
   "metadata": {},
   "outputs": [
    {
     "ename": "SyntaxError",
     "evalue": "EOL while scanning string literal (<ipython-input-1-126035ba983d>, line 1)",
     "output_type": "error",
     "traceback": [
      "\u001b[1;36m  File \u001b[1;32m\"<ipython-input-1-126035ba983d>\"\u001b[1;36m, line \u001b[1;32m1\u001b[0m\n\u001b[1;33m    print('hello)\u001b[0m\n\u001b[1;37m                 ^\u001b[0m\n\u001b[1;31mSyntaxError\u001b[0m\u001b[1;31m:\u001b[0m EOL while scanning string literal\n"
     ]
    }
   ],
   "source": [
    "print('hello)"
   ]
  },
  {
   "cell_type": "markdown",
   "metadata": {},
   "source": [
    "# try & Except"
   ]
  },
  {
   "cell_type": "code",
   "execution_count": 6,
   "metadata": {},
   "outputs": [
    {
     "name": "stdout",
     "output_type": "stream",
     "text": [
      "Error : could not the file or read the data\n"
     ]
    }
   ],
   "source": [
    "try:\n",
    "    f = open('teston12th','w')\n",
    "    #f.write('there is a test on 12th of march be prepared!')\n",
    "    f.read()\n",
    "except IOError:\n",
    "    print(\"Error : could not the file or read the data\")\n",
    "else:\n",
    "    print(\"content written successfully\")\n",
    "    f.close()\n",
    "    "
   ]
  },
  {
   "cell_type": "code",
   "execution_count": 12,
   "metadata": {},
   "outputs": [
    {
     "name": "stdout",
     "output_type": "stream",
     "text": [
      "1.6666666666666667\n",
      "this is execute in any condition\n"
     ]
    }
   ],
   "source": [
    "try:\n",
    "    x = 5\n",
    "    y = 3\n",
    "    z = x/y\n",
    "    print(z)\n",
    "except exception as e :\n",
    "    print(e)\n",
    "finally:\n",
    "    print('this is execute in any condition')\n"
   ]
  },
  {
   "cell_type": "markdown",
   "metadata": {},
   "source": [
    "def asknum():\n",
    "    while True:\n",
    "        try:\n",
    "            val = int(input('please enter number: '))\n",
    "        except:\n",
    "            print('you have not entered any integer')\n",
    "            continue\n",
    "        else:\n",
    "            print('hey this thing is work and i am fine with this')\n",
    "            break\n",
    "        finally:\n",
    "            print('finally i executed, use me for something')\n",
    "        print(val)"
   ]
  },
  {
   "cell_type": "code",
   "execution_count": 15,
   "metadata": {},
   "outputs": [],
   "source": [
    "def asknum():\n",
    "    while True:\n",
    "        try:\n",
    "            val = int(input('please enter number: '))\n",
    "        except:\n",
    "            print('you have not entered any integer')\n",
    "            continue\n",
    "        else:\n",
    "            print('hey this thing is work and i am fine with this')\n",
    "            break\n",
    "        finally:\n",
    "            print('finally i executed, use me for something')\n",
    "        print(val)"
   ]
  },
  {
   "cell_type": "code",
   "execution_count": 16,
   "metadata": {},
   "outputs": [
    {
     "name": "stdout",
     "output_type": "stream",
     "text": [
      "please enter number: 20\n",
      "hey this thing is work and i am fine with this\n",
      "finally i executed, use me for something\n"
     ]
    }
   ],
   "source": [
    "asknum()"
   ]
  },
  {
   "cell_type": "code",
   "execution_count": 17,
   "metadata": {},
   "outputs": [
    {
     "name": "stdout",
     "output_type": "stream",
     "text": [
      "please enter number: 4t\n",
      "you have not entered any integer\n",
      "finally i executed, use me for something\n",
      "please enter number: rt\n",
      "you have not entered any integer\n",
      "finally i executed, use me for something\n",
      "please enter number: 4\n",
      "hey this thing is work and i am fine with this\n",
      "finally i executed, use me for something\n"
     ]
    }
   ],
   "source": [
    "asknum()"
   ]
  },
  {
   "cell_type": "markdown",
   "metadata": {},
   "source": [
    "# Testing Tool - Pylint"
   ]
  },
  {
   "cell_type": "code",
   "execution_count": 27,
   "metadata": {},
   "outputs": [
    {
     "name": "stdout",
     "output_type": "stream",
     "text": [
      "Requirement already satisfied: pylint in c:\\programdata\\anaconda3\\lib\\site-packages (2.2.2)\n",
      "Requirement already satisfied: astroid>=2.0.0 in c:\\programdata\\anaconda3\\lib\\site-packages (from pylint) (2.1.0)\n",
      "Requirement already satisfied: isort>=4.2.5 in c:\\programdata\\anaconda3\\lib\\site-packages (from pylint) (4.3.4)\n",
      "Requirement already satisfied: mccabe in c:\\programdata\\anaconda3\\lib\\site-packages (from pylint) (0.6.1)\n",
      "Requirement already satisfied: colorama in c:\\programdata\\anaconda3\\lib\\site-packages (from pylint) (0.4.1)\n",
      "Requirement already satisfied: lazy-object-proxy in c:\\programdata\\anaconda3\\lib\\site-packages (from astroid>=2.0.0->pylint) (1.3.1)\n",
      "Requirement already satisfied: six in c:\\programdata\\anaconda3\\lib\\site-packages (from astroid>=2.0.0->pylint) (1.12.0)\n",
      "Requirement already satisfied: wrapt in c:\\programdata\\anaconda3\\lib\\site-packages (from astroid>=2.0.0->pylint) (1.10.11)\n"
     ]
    }
   ],
   "source": [
    "! pip install pylint"
   ]
  },
  {
   "cell_type": "code",
   "execution_count": 24,
   "metadata": {},
   "outputs": [
    {
     "name": "stdout",
     "output_type": "stream",
     "text": [
      "Writing simple.py\n"
     ]
    }
   ],
   "source": [
    "%%writefile simple.py\n",
    "a=1\n",
    "b=2\n",
    "\n",
    "print(a)\n",
    "print(b)\n"
   ]
  },
  {
   "cell_type": "code",
   "execution_count": 26,
   "metadata": {},
   "outputs": [
    {
     "name": "stdout",
     "output_type": "stream",
     "text": [
      "************* Module simple\n",
      "simple.py:1:1: C0326: Exactly one space required around assignment\n",
      "a=1\n",
      "\n",
      " ^ (bad-whitespace)\n",
      "simple.py:2:1: C0326: Exactly one space required around assignment\n",
      "b=2\n",
      "\n",
      " ^ (bad-whitespace)\n",
      "simple.py:1:0: C0111: Missing module docstring (missing-docstring)\n",
      "simple.py:1:0: C0103: Constant name \"a\" doesn't conform to UPPER_CASE naming style (invalid-name)\n",
      "simple.py:2:0: C0103: Constant name \"b\" doesn't conform to UPPER_CASE naming style (invalid-name)\n",
      "\n",
      "------------------------------------\n",
      "\n",
      "Your code has been rated at -2.50/10\n",
      "\n",
      "\n",
      "\n"
     ]
    }
   ],
   "source": [
    "! pylint simple.py"
   ]
  },
  {
   "cell_type": "code",
   "execution_count": 31,
   "metadata": {},
   "outputs": [
    {
     "name": "stdout",
     "output_type": "stream",
     "text": [
      "Overwriting simple.py\n"
     ]
    }
   ],
   "source": [
    "%%writefile simple.py\n",
    "'''\n",
    "A very simple script\n",
    "'''\n",
    "def myfun():\n",
    "    '''\n",
    "    An extremly simple fun\n",
    "    '''\n",
    "    first = 1\n",
    "    secound = 2\n",
    "    print(first)\n",
    "    print(secound)\n",
    "myfun()"
   ]
  },
  {
   "cell_type": "code",
   "execution_count": 32,
   "metadata": {},
   "outputs": [
    {
     "name": "stdout",
     "output_type": "stream",
     "text": [
      "\n",
      "-------------------------------------------------------------------\n",
      "\n",
      "Your code has been rated at 10.00/10 (previous run: 5.00/10, +5.00)\n",
      "\n",
      "\n",
      "\n"
     ]
    }
   ],
   "source": [
    "! pylint simple.py"
   ]
  },
  {
   "cell_type": "markdown",
   "metadata": {},
   "source": [
    "# unit test"
   ]
  },
  {
   "cell_type": "code",
   "execution_count": 46,
   "metadata": {},
   "outputs": [
    {
     "name": "stdout",
     "output_type": "stream",
     "text": [
      "Overwriting capitalize_test.py\n"
     ]
    }
   ],
   "source": [
    "%%writefile capitalize_test.py\n",
    "def capitalize_t(text):\n",
    "    return text.capitalize()"
   ]
  },
  {
   "cell_type": "code",
   "execution_count": 51,
   "metadata": {},
   "outputs": [
    {
     "name": "stdout",
     "output_type": "stream",
     "text": [
      "Overwriting test_capitalize_test.py\n"
     ]
    }
   ],
   "source": [
    "%%writefile test_capitalize_test.py\n",
    "\n",
    "import unittest\n",
    "import capitalize_test\n",
    "\n",
    "class TestCap(unittest.TestCase):\n",
    "    \n",
    "    def test_one_word(self)\n",
    "        text = 'python'\n",
    "        result = capitalize_test.capiralize.t(text)\n",
    "        self.assertEqual(result,'Python')\n",
    "        \n",
    "    def test_multipkle_word(self):\n",
    "        text = \"my python\"\n",
    "        result = capitalize_test.capiralize.t(text)\n",
    "        self.assertEqual(result,'My python')\n",
    "        \n",
    "if __name__=='__main__':\n",
    "    unittest.main()"
   ]
  },
  {
   "cell_type": "code",
   "execution_count": 52,
   "metadata": {},
   "outputs": [
    {
     "name": "stdout",
     "output_type": "stream",
     "text": [
      "************* Module test_capitalize_test\n",
      "test_capitalize_test.py:7:0: E0001: invalid syntax (<unknown>, line 7) (syntax-error)\n"
     ]
    }
   ],
   "source": [
    "! pylint test_capitalize_test.py"
   ]
  },
  {
   "cell_type": "code",
   "execution_count": null,
   "metadata": {},
   "outputs": [],
   "source": []
  }
 ],
 "metadata": {
  "kernelspec": {
   "display_name": "Python 3",
   "language": "python",
   "name": "python3"
  },
  "language_info": {
   "codemirror_mode": {
    "name": "ipython",
    "version": 3
   },
   "file_extension": ".py",
   "mimetype": "text/x-python",
   "name": "python",
   "nbconvert_exporter": "python",
   "pygments_lexer": "ipython3",
   "version": "3.7.1"
  }
 },
 "nbformat": 4,
 "nbformat_minor": 2
}
